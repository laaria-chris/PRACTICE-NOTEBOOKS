{
 "cells": [
  {
   "cell_type": "markdown",
   "metadata": {},
   "source": [
    "## SVD in Python"
   ]
  },
  {
   "cell_type": "markdown",
   "metadata": {},
   "source": [
    "SciPy has a straightforward implementation of SVD to help us avoid all the complex steps of SVD. We can use the svds() function to decompose a matrix as shown below. We will use csc_matrix() to create a sparse matrix object."
   ]
  },
  {
   "cell_type": "code",
   "execution_count": 1,
   "metadata": {},
   "outputs": [
    {
     "name": "stdout",
     "output_type": "stream",
     "text": [
      "A:\n",
      " [[1. 0. 0.]\n",
      " [5. 0. 2.]\n",
      " [0. 1. 0.]\n",
      " [0. 0. 3.]\n",
      " [4. 0. 9.]]\n",
      "=\n",
      "\n",
      "U:\n",
      " [[-2.21829477e-01 -4.58445949e-02]\n",
      " [-8.50288016e-01 -3.86369035e-01]\n",
      " [ 1.76646871e-17  1.69188057e-18]\n",
      " [ 3.88289052e-01 -2.35719092e-01]\n",
      " [ 2.77549248e-01 -8.90535654e-01]]\n",
      "\n",
      "Σ:\n",
      " [ 3.89366418 10.99269663]\n",
      "\n",
      "V.T:\n",
      " [[-8.63729488e-01  6.87803594e-17  5.03955724e-01]\n",
      " [-5.03955724e-01  1.85983299e-17 -8.63729488e-01]]\n"
     ]
    }
   ],
   "source": [
    "from scipy.sparse import csc_matrix\n",
    "from scipy.sparse.linalg import svds\n",
    "\n",
    "# Create a sparse matrix \n",
    "A = csc_matrix([[1, 0, 0], [5, 0, 2], [0, 1, 0], [0, 0, 3], [4, 0, 9]], dtype=float)\n",
    "\n",
    "# Apply SVD\n",
    "u, s, vt = svds(A, k=2) # k is the number of stretching factors\n",
    "\n",
    "print ('A:\\n', A.toarray())\n",
    "print ('=')\n",
    "print ('\\nU:\\n', u)\n",
    "print ('\\nΣ:\\n', s)\n",
    "print ('\\nV.T:\\n', vt)"
   ]
  },
  {
   "cell_type": "markdown",
   "metadata": {},
   "source": [
    "Now we can recreate the original ratings matrix by multiplying the three factors of the matrix together. Let's look at the exact values and then the rounded values to get an idea of what our ratings should be."
   ]
  },
  {
   "cell_type": "code",
   "execution_count": 2,
   "metadata": {},
   "outputs": [
    {
     "name": "stdout",
     "output_type": "stream",
     "text": [
      "Approximation of Ratings Matrix\n"
     ]
    },
    {
     "data": {
      "text/plain": [
       "array([[ 1.00000000e+00, -6.87803594e-17, -3.33066907e-16],\n",
       "       [ 5.00000000e+00, -3.06705137e-16,  2.00000000e+00],\n",
       "       [-6.87803594e-17,  5.07663572e-33,  1.85983299e-17],\n",
       "       [ 4.44089210e-16,  5.57949896e-17,  3.00000000e+00],\n",
       "       [ 4.00000000e+00, -1.07736469e-16,  9.00000000e+00]])"
      ]
     },
     "execution_count": 2,
     "metadata": {},
     "output_type": "execute_result"
    }
   ],
   "source": [
    "import numpy as np\n",
    "print('Approximation of Ratings Matrix')\n",
    "u.dot(np.diag(s).dot(vt))"
   ]
  },
  {
   "cell_type": "code",
   "execution_count": 3,
   "metadata": {},
   "outputs": [
    {
     "name": "stdout",
     "output_type": "stream",
     "text": [
      "Rounded Approximation of Ratings Matrix\n"
     ]
    },
    {
     "data": {
      "text/plain": [
       "array([[ 1., -0., -0.],\n",
       "       [ 5., -0.,  2.],\n",
       "       [-0.,  0.,  0.],\n",
       "       [ 0.,  0.,  3.],\n",
       "       [ 4., -0.,  9.]])"
      ]
     },
     "execution_count": 3,
     "metadata": {},
     "output_type": "execute_result"
    }
   ],
   "source": [
    "print('Rounded Approximation of Ratings Matrix')\n",
    "np.round(u.dot(np.diag(s).dot(vt)))"
   ]
  },
  {
   "cell_type": "markdown",
   "metadata": {},
   "source": [
    "As you can see, the matrix has now been almost recreated to the exact specifications of the original matrix. Out of the 12 user-item ratings, we have incorrectly rated one of them (Row 3, Column 2). SVD is not a perfect solution, but when we have enough users and items, we are able to gain valuable insights about the underlying relationships found in our data.\n",
    "\n",
    "The example we've provided above demonstrates matrix factorization with SVD and relating this to a real-life problem, like recommending a movie or a song. Next, we will look at implementing a simple recommendation system in Python to further strengthen our intuition around this idea.\n",
    "\n"
   ]
  },
  {
   "cell_type": "markdown",
   "metadata": {},
   "source": [
    "### Matrix Factorization with Alternating Least Squares"
   ]
  },
  {
   "cell_type": "code",
   "execution_count": 4,
   "metadata": {},
   "outputs": [],
   "source": [
    "import numpy as np\n",
    "\n",
    "# users X factors\n",
    "P = np.array([[-0.63274434,  1.33686735, -1.55128517], \n",
    "              [-2.23813661,  0.5123861 ,  0.14087293], \n",
    "              [-1.0289794 ,  1.62052691,  0.21027516], \n",
    "              [-0.06422255,  1.62892864,  0.33350709]])"
   ]
  },
  {
   "cell_type": "code",
   "execution_count": 5,
   "metadata": {},
   "outputs": [],
   "source": [
    "# factors X items\n",
    "Q = np.array([[-2.09507374,  0.52351075,  0.01826269], \n",
    "              [-0.45078775, -0.07334991,  0.18731052], \n",
    "              [-0.34161766,  2.46215058, -0.18942263], \n",
    "              [-1.0925736 ,  1.04664756,  0.69963111], \n",
    "              [-0.78152923,  0.89189076, -1.47144019]])"
   ]
  },
  {
   "cell_type": "code",
   "execution_count": 6,
   "metadata": {},
   "outputs": [],
   "source": [
    "# the original \n",
    "R = np.array([[2, np.nan, np.nan, 1, 4], \n",
    "              [5, 1, 2, np.nan, 2], \n",
    "              [3, np.nan, np.nan, 3, np.nan], \n",
    "              [1, np.nan, 4, 2, 1]])"
   ]
  },
  {
   "cell_type": "code",
   "execution_count": 7,
   "metadata": {},
   "outputs": [
    {
     "name": "stdout",
     "output_type": "stream",
     "text": [
      "[-1.0289794   1.62052691  0.21027516]\n"
     ]
    }
   ],
   "source": [
    "print(P[2])"
   ]
  },
  {
   "cell_type": "code",
   "execution_count": 8,
   "metadata": {},
   "outputs": [
    {
     "name": "stdout",
     "output_type": "stream",
     "text": [
      "[-0.78152923  0.89189076 -1.47144019]\n"
     ]
    }
   ],
   "source": [
    "print(Q.T[:,4])"
   ]
  },
  {
   "cell_type": "code",
   "execution_count": 9,
   "metadata": {},
   "outputs": [
    {
     "data": {
      "text/plain": [
       "1.9401031341455333"
      ]
     },
     "execution_count": 9,
     "metadata": {},
     "output_type": "execute_result"
    }
   ],
   "source": [
    "P[2].dot(Q.T[:,4])"
   ]
  },
  {
   "cell_type": "markdown",
   "metadata": {},
   "source": [
    "Now we can do the calculation for the entire ratings matrix. You can see that the values in the predicted matrix are very close to the actual ratings for those that are present in the original rating array. The other values are new!"
   ]
  },
  {
   "cell_type": "code",
   "execution_count": 10,
   "metadata": {},
   "outputs": [
    {
     "data": {
      "text/plain": [
       "array([[ 1.99717984, -0.10339773,  3.80157388,  1.00522135,  3.96947118],\n",
       "       [ 4.95987359,  0.99772807,  1.9994742 ,  3.08017572,  1.99887552],\n",
       "       [ 3.00799117,  0.38437256,  4.30166793,  2.96747131,  1.94010313],\n",
       "       [ 0.99340337, -0.02806164,  3.96943336,  2.00841398,  1.01228247]])"
      ]
     },
     "execution_count": 10,
     "metadata": {},
     "output_type": "execute_result"
    }
   ],
   "source": [
    "P.dot(Q.T)"
   ]
  }
 ],
 "metadata": {
  "kernelspec": {
   "display_name": "base",
   "language": "python",
   "name": "python3"
  },
  "language_info": {
   "codemirror_mode": {
    "name": "ipython",
    "version": 3
   },
   "file_extension": ".py",
   "mimetype": "text/x-python",
   "name": "python",
   "nbconvert_exporter": "python",
   "pygments_lexer": "ipython3",
   "version": "3.11.7"
  }
 },
 "nbformat": 4,
 "nbformat_minor": 2
}
