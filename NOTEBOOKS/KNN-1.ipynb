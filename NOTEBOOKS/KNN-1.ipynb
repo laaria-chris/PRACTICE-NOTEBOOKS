{
 "cells": [
  {
   "cell_type": "code",
   "execution_count": 44,
   "metadata": {},
   "outputs": [],
   "source": [
    "import pandas as pd\n",
    "import numpy as np\n",
    "import math\n",
    "from sklearn.model_selection import train_test_split\n",
    "from sklearn.impute import SimpleImputer\n",
    "from sklearn.preprocessing import MinMaxScaler, StandardScaler\n",
    "from sklearn.neighbors import KNeighborsClassifier\n",
    "from sklearn.metrics import confusion_matrix, f1_score, accuracy_score, precision_score, recall_score\n"
   ]
  },
  {
   "cell_type": "code",
   "execution_count": 45,
   "metadata": {},
   "outputs": [
    {
     "data": {
      "text/html": [
       "<div>\n",
       "<style scoped>\n",
       "    .dataframe tbody tr th:only-of-type {\n",
       "        vertical-align: middle;\n",
       "    }\n",
       "\n",
       "    .dataframe tbody tr th {\n",
       "        vertical-align: top;\n",
       "    }\n",
       "\n",
       "    .dataframe thead th {\n",
       "        text-align: right;\n",
       "    }\n",
       "</style>\n",
       "<table border=\"1\" class=\"dataframe\">\n",
       "  <thead>\n",
       "    <tr style=\"text-align: right;\">\n",
       "      <th></th>\n",
       "      <th>Pregnancies</th>\n",
       "      <th>Glucose</th>\n",
       "      <th>BloodPressure</th>\n",
       "      <th>SkinThickness</th>\n",
       "      <th>Insulin</th>\n",
       "      <th>BMI</th>\n",
       "      <th>DiabetesPedigreeFunction</th>\n",
       "      <th>Age</th>\n",
       "      <th>Outcome</th>\n",
       "    </tr>\n",
       "  </thead>\n",
       "  <tbody>\n",
       "    <tr>\n",
       "      <th>0</th>\n",
       "      <td>6</td>\n",
       "      <td>148</td>\n",
       "      <td>72</td>\n",
       "      <td>35</td>\n",
       "      <td>0</td>\n",
       "      <td>33.6</td>\n",
       "      <td>0.627</td>\n",
       "      <td>50</td>\n",
       "      <td>1</td>\n",
       "    </tr>\n",
       "    <tr>\n",
       "      <th>1</th>\n",
       "      <td>1</td>\n",
       "      <td>85</td>\n",
       "      <td>66</td>\n",
       "      <td>29</td>\n",
       "      <td>0</td>\n",
       "      <td>26.6</td>\n",
       "      <td>0.351</td>\n",
       "      <td>31</td>\n",
       "      <td>0</td>\n",
       "    </tr>\n",
       "    <tr>\n",
       "      <th>2</th>\n",
       "      <td>8</td>\n",
       "      <td>183</td>\n",
       "      <td>64</td>\n",
       "      <td>0</td>\n",
       "      <td>0</td>\n",
       "      <td>23.3</td>\n",
       "      <td>0.672</td>\n",
       "      <td>32</td>\n",
       "      <td>1</td>\n",
       "    </tr>\n",
       "    <tr>\n",
       "      <th>3</th>\n",
       "      <td>1</td>\n",
       "      <td>89</td>\n",
       "      <td>66</td>\n",
       "      <td>23</td>\n",
       "      <td>94</td>\n",
       "      <td>28.1</td>\n",
       "      <td>0.167</td>\n",
       "      <td>21</td>\n",
       "      <td>0</td>\n",
       "    </tr>\n",
       "    <tr>\n",
       "      <th>4</th>\n",
       "      <td>0</td>\n",
       "      <td>137</td>\n",
       "      <td>40</td>\n",
       "      <td>35</td>\n",
       "      <td>168</td>\n",
       "      <td>43.1</td>\n",
       "      <td>2.288</td>\n",
       "      <td>33</td>\n",
       "      <td>1</td>\n",
       "    </tr>\n",
       "  </tbody>\n",
       "</table>\n",
       "</div>"
      ],
      "text/plain": [
       "   Pregnancies  Glucose  BloodPressure  SkinThickness  Insulin   BMI  \\\n",
       "0            6      148             72             35        0  33.6   \n",
       "1            1       85             66             29        0  26.6   \n",
       "2            8      183             64              0        0  23.3   \n",
       "3            1       89             66             23       94  28.1   \n",
       "4            0      137             40             35      168  43.1   \n",
       "\n",
       "   DiabetesPedigreeFunction  Age  Outcome  \n",
       "0                     0.627   50        1  \n",
       "1                     0.351   31        0  \n",
       "2                     0.672   32        1  \n",
       "3                     0.167   21        0  \n",
       "4                     2.288   33        1  "
      ]
     },
     "execution_count": 45,
     "metadata": {},
     "output_type": "execute_result"
    }
   ],
   "source": [
    "df= pd.read_csv(\"diabetes.csv\")\n",
    "df.head()"
   ]
  },
  {
   "cell_type": "code",
   "execution_count": 46,
   "metadata": {},
   "outputs": [
    {
     "name": "stdout",
     "output_type": "stream",
     "text": [
      "<class 'pandas.core.frame.DataFrame'>\n",
      "RangeIndex: 768 entries, 0 to 767\n",
      "Data columns (total 9 columns):\n",
      " #   Column                    Non-Null Count  Dtype  \n",
      "---  ------                    --------------  -----  \n",
      " 0   Pregnancies               768 non-null    int64  \n",
      " 1   Glucose                   768 non-null    int64  \n",
      " 2   BloodPressure             768 non-null    int64  \n",
      " 3   SkinThickness             768 non-null    int64  \n",
      " 4   Insulin                   768 non-null    int64  \n",
      " 5   BMI                       768 non-null    float64\n",
      " 6   DiabetesPedigreeFunction  768 non-null    float64\n",
      " 7   Age                       768 non-null    int64  \n",
      " 8   Outcome                   768 non-null    int64  \n",
      "dtypes: float64(2), int64(7)\n",
      "memory usage: 54.1 KB\n"
     ]
    }
   ],
   "source": [
    "df.info()"
   ]
  },
  {
   "cell_type": "code",
   "execution_count": 47,
   "metadata": {},
   "outputs": [],
   "source": [
    "not_accepted=[\"Glucose\", \"BloodPressure\", \"SkinThickness\", \"BMI\", \"Insulin\"]"
   ]
  },
  {
   "cell_type": "code",
   "execution_count": 48,
   "metadata": {},
   "outputs": [
    {
     "data": {
      "text/plain": [
       "Pregnancies                 0\n",
       "Glucose                     0\n",
       "BloodPressure               0\n",
       "SkinThickness               0\n",
       "Insulin                     0\n",
       "BMI                         0\n",
       "DiabetesPedigreeFunction    0\n",
       "Age                         0\n",
       "Outcome                     0\n",
       "dtype: int64"
      ]
     },
     "execution_count": 48,
     "metadata": {},
     "output_type": "execute_result"
    }
   ],
   "source": [
    "\n",
    "imputer = SimpleImputer(missing_values=0)\n",
    "\n",
    "imputer.fit(df[not_accepted])\n",
    "imputed_values = pd.DataFrame(\n",
    "    imputer.transform(df[not_accepted]),\n",
    "    # index is important to ensure we can concatenate with other columns\n",
    "    index=df.index,\n",
    "    columns=[not_accepted]\n",
    ")\n",
    "\n",
    "df[not_accepted] = imputed_values\n",
    "df.isna().sum()"
   ]
  },
  {
   "cell_type": "markdown",
   "metadata": {},
   "source": [
    "Selecting Columns and Splitting the data"
   ]
  },
  {
   "cell_type": "code",
   "execution_count": 49,
   "metadata": {},
   "outputs": [],
   "source": [
    "X= df.drop([\"Outcome\"], axis= 1)\n",
    "y=df[\"Outcome\"]\n",
    "X_train, X_test, y_train, y_test=train_test_split(X,y, test_size = 0.2, random_state=0)"
   ]
  },
  {
   "cell_type": "markdown",
   "metadata": {},
   "source": [
    "Normalizing the data"
   ]
  },
  {
   "cell_type": "code",
   "execution_count": 50,
   "metadata": {},
   "outputs": [],
   "source": [
    "scaler= MinMaxScaler()\n",
    "scaled_train =scaler.fit_transform(X_train, y_train)\n",
    "scaled_test =scaler.transform(X_test)"
   ]
  },
  {
   "cell_type": "code",
   "execution_count": 51,
   "metadata": {},
   "outputs": [],
   "source": [
    "# scaler= StandardScaler()\n",
    "# scaled_train=scaler.fit_transform(X_train, y_train)\n",
    "# scaled_test=scaler.transform(X_test)\n"
   ]
  },
  {
   "cell_type": "markdown",
   "metadata": {},
   "source": []
  },
  {
   "cell_type": "code",
   "execution_count": 52,
   "metadata": {},
   "outputs": [
    {
     "data": {
      "text/html": [
       "<div>\n",
       "<style scoped>\n",
       "    .dataframe tbody tr th:only-of-type {\n",
       "        vertical-align: middle;\n",
       "    }\n",
       "\n",
       "    .dataframe tbody tr th {\n",
       "        vertical-align: top;\n",
       "    }\n",
       "\n",
       "    .dataframe thead th {\n",
       "        text-align: right;\n",
       "    }\n",
       "</style>\n",
       "<table border=\"1\" class=\"dataframe\">\n",
       "  <thead>\n",
       "    <tr style=\"text-align: right;\">\n",
       "      <th></th>\n",
       "      <th>Pregnancies</th>\n",
       "      <th>Glucose</th>\n",
       "      <th>BloodPressure</th>\n",
       "      <th>SkinThickness</th>\n",
       "      <th>Insulin</th>\n",
       "      <th>BMI</th>\n",
       "      <th>DiabetesPedigreeFunction</th>\n",
       "      <th>Age</th>\n",
       "    </tr>\n",
       "  </thead>\n",
       "  <tbody>\n",
       "    <tr>\n",
       "      <th>0</th>\n",
       "      <td>0.411765</td>\n",
       "      <td>0.688312</td>\n",
       "      <td>0.551020</td>\n",
       "      <td>0.239130</td>\n",
       "      <td>0.134615</td>\n",
       "      <td>0.347648</td>\n",
       "      <td>0.262169</td>\n",
       "      <td>0.550000</td>\n",
       "    </tr>\n",
       "    <tr>\n",
       "      <th>1</th>\n",
       "      <td>0.235294</td>\n",
       "      <td>0.344156</td>\n",
       "      <td>0.367347</td>\n",
       "      <td>0.173913</td>\n",
       "      <td>0.170130</td>\n",
       "      <td>0.204499</td>\n",
       "      <td>0.155850</td>\n",
       "      <td>0.016667</td>\n",
       "    </tr>\n",
       "    <tr>\n",
       "      <th>2</th>\n",
       "      <td>0.000000</td>\n",
       "      <td>0.785714</td>\n",
       "      <td>0.673469</td>\n",
       "      <td>0.282609</td>\n",
       "      <td>0.800481</td>\n",
       "      <td>0.697342</td>\n",
       "      <td>0.149018</td>\n",
       "      <td>0.033333</td>\n",
       "    </tr>\n",
       "    <tr>\n",
       "      <th>3</th>\n",
       "      <td>0.058824</td>\n",
       "      <td>0.422078</td>\n",
       "      <td>0.326531</td>\n",
       "      <td>0.152174</td>\n",
       "      <td>0.145433</td>\n",
       "      <td>0.143149</td>\n",
       "      <td>0.322374</td>\n",
       "      <td>0.033333</td>\n",
       "    </tr>\n",
       "    <tr>\n",
       "      <th>4</th>\n",
       "      <td>0.470588</td>\n",
       "      <td>0.493506</td>\n",
       "      <td>0.493930</td>\n",
       "      <td>0.240798</td>\n",
       "      <td>0.170130</td>\n",
       "      <td>0.241309</td>\n",
       "      <td>0.044833</td>\n",
       "      <td>0.283333</td>\n",
       "    </tr>\n",
       "    <tr>\n",
       "      <th>...</th>\n",
       "      <td>...</td>\n",
       "      <td>...</td>\n",
       "      <td>...</td>\n",
       "      <td>...</td>\n",
       "      <td>...</td>\n",
       "      <td>...</td>\n",
       "      <td>...</td>\n",
       "      <td>...</td>\n",
       "    </tr>\n",
       "    <tr>\n",
       "      <th>609</th>\n",
       "      <td>0.588235</td>\n",
       "      <td>0.370130</td>\n",
       "      <td>0.530612</td>\n",
       "      <td>0.445652</td>\n",
       "      <td>0.199519</td>\n",
       "      <td>0.300613</td>\n",
       "      <td>0.039710</td>\n",
       "      <td>0.700000</td>\n",
       "    </tr>\n",
       "    <tr>\n",
       "      <th>610</th>\n",
       "      <td>0.411765</td>\n",
       "      <td>0.746753</td>\n",
       "      <td>0.428571</td>\n",
       "      <td>0.240798</td>\n",
       "      <td>0.170130</td>\n",
       "      <td>0.249489</td>\n",
       "      <td>0.130231</td>\n",
       "      <td>0.250000</td>\n",
       "    </tr>\n",
       "    <tr>\n",
       "      <th>611</th>\n",
       "      <td>0.235294</td>\n",
       "      <td>0.324675</td>\n",
       "      <td>0.418367</td>\n",
       "      <td>0.163043</td>\n",
       "      <td>0.170130</td>\n",
       "      <td>0.132924</td>\n",
       "      <td>0.029889</td>\n",
       "      <td>0.000000</td>\n",
       "    </tr>\n",
       "    <tr>\n",
       "      <th>612</th>\n",
       "      <td>0.647059</td>\n",
       "      <td>0.266234</td>\n",
       "      <td>0.510204</td>\n",
       "      <td>0.240798</td>\n",
       "      <td>0.170130</td>\n",
       "      <td>0.243354</td>\n",
       "      <td>0.094791</td>\n",
       "      <td>0.233333</td>\n",
       "    </tr>\n",
       "    <tr>\n",
       "      <th>613</th>\n",
       "      <td>0.294118</td>\n",
       "      <td>0.597403</td>\n",
       "      <td>0.591837</td>\n",
       "      <td>0.240798</td>\n",
       "      <td>0.170130</td>\n",
       "      <td>0.291564</td>\n",
       "      <td>0.239966</td>\n",
       "      <td>0.800000</td>\n",
       "    </tr>\n",
       "  </tbody>\n",
       "</table>\n",
       "<p>614 rows × 8 columns</p>\n",
       "</div>"
      ],
      "text/plain": [
       "     Pregnancies   Glucose  BloodPressure  SkinThickness   Insulin       BMI  \\\n",
       "0       0.411765  0.688312       0.551020       0.239130  0.134615  0.347648   \n",
       "1       0.235294  0.344156       0.367347       0.173913  0.170130  0.204499   \n",
       "2       0.000000  0.785714       0.673469       0.282609  0.800481  0.697342   \n",
       "3       0.058824  0.422078       0.326531       0.152174  0.145433  0.143149   \n",
       "4       0.470588  0.493506       0.493930       0.240798  0.170130  0.241309   \n",
       "..           ...       ...            ...            ...       ...       ...   \n",
       "609     0.588235  0.370130       0.530612       0.445652  0.199519  0.300613   \n",
       "610     0.411765  0.746753       0.428571       0.240798  0.170130  0.249489   \n",
       "611     0.235294  0.324675       0.418367       0.163043  0.170130  0.132924   \n",
       "612     0.647059  0.266234       0.510204       0.240798  0.170130  0.243354   \n",
       "613     0.294118  0.597403       0.591837       0.240798  0.170130  0.291564   \n",
       "\n",
       "     DiabetesPedigreeFunction       Age  \n",
       "0                    0.262169  0.550000  \n",
       "1                    0.155850  0.016667  \n",
       "2                    0.149018  0.033333  \n",
       "3                    0.322374  0.033333  \n",
       "4                    0.044833  0.283333  \n",
       "..                        ...       ...  \n",
       "609                  0.039710  0.700000  \n",
       "610                  0.130231  0.250000  \n",
       "611                  0.029889  0.000000  \n",
       "612                  0.094791  0.233333  \n",
       "613                  0.239966  0.800000  \n",
       "\n",
       "[614 rows x 8 columns]"
      ]
     },
     "execution_count": 52,
     "metadata": {},
     "output_type": "execute_result"
    }
   ],
   "source": [
    "scaled_train=pd.DataFrame(scaled_train, columns=X_train.columns)\n",
    "scaled_train"
   ]
  },
  {
   "cell_type": "code",
   "execution_count": 53,
   "metadata": {},
   "outputs": [
    {
     "data": {
      "text/html": [
       "<div>\n",
       "<style scoped>\n",
       "    .dataframe tbody tr th:only-of-type {\n",
       "        vertical-align: middle;\n",
       "    }\n",
       "\n",
       "    .dataframe tbody tr th {\n",
       "        vertical-align: top;\n",
       "    }\n",
       "\n",
       "    .dataframe thead th {\n",
       "        text-align: right;\n",
       "    }\n",
       "</style>\n",
       "<table border=\"1\" class=\"dataframe\">\n",
       "  <thead>\n",
       "    <tr style=\"text-align: right;\">\n",
       "      <th></th>\n",
       "      <th>Pregnancies</th>\n",
       "      <th>Glucose</th>\n",
       "      <th>BloodPressure</th>\n",
       "      <th>SkinThickness</th>\n",
       "      <th>Insulin</th>\n",
       "      <th>BMI</th>\n",
       "      <th>DiabetesPedigreeFunction</th>\n",
       "      <th>Age</th>\n",
       "    </tr>\n",
       "  </thead>\n",
       "  <tbody>\n",
       "    <tr>\n",
       "      <th>0</th>\n",
       "      <td>0.058824</td>\n",
       "      <td>1.006494</td>\n",
       "      <td>0.530612</td>\n",
       "      <td>0.391304</td>\n",
       "      <td>0.170130</td>\n",
       "      <td>0.505112</td>\n",
       "      <td>0.561913</td>\n",
       "      <td>0.016667</td>\n",
       "    </tr>\n",
       "    <tr>\n",
       "      <th>1</th>\n",
       "      <td>0.117647</td>\n",
       "      <td>0.409091</td>\n",
       "      <td>0.510204</td>\n",
       "      <td>0.250000</td>\n",
       "      <td>0.103365</td>\n",
       "      <td>0.314928</td>\n",
       "      <td>0.139197</td>\n",
       "      <td>0.033333</td>\n",
       "    </tr>\n",
       "    <tr>\n",
       "      <th>2</th>\n",
       "      <td>0.235294</td>\n",
       "      <td>0.207792</td>\n",
       "      <td>0.387755</td>\n",
       "      <td>0.240798</td>\n",
       "      <td>0.170130</td>\n",
       "      <td>0.323108</td>\n",
       "      <td>0.133646</td>\n",
       "      <td>0.066667</td>\n",
       "    </tr>\n",
       "    <tr>\n",
       "      <th>3</th>\n",
       "      <td>0.294118</td>\n",
       "      <td>0.792208</td>\n",
       "      <td>0.489796</td>\n",
       "      <td>0.130435</td>\n",
       "      <td>0.193510</td>\n",
       "      <td>0.155419</td>\n",
       "      <td>0.217336</td>\n",
       "      <td>0.500000</td>\n",
       "    </tr>\n",
       "    <tr>\n",
       "      <th>4</th>\n",
       "      <td>0.000000</td>\n",
       "      <td>0.435065</td>\n",
       "      <td>0.418367</td>\n",
       "      <td>0.240798</td>\n",
       "      <td>0.170130</td>\n",
       "      <td>0.130879</td>\n",
       "      <td>0.248506</td>\n",
       "      <td>0.166667</td>\n",
       "    </tr>\n",
       "    <tr>\n",
       "      <th>...</th>\n",
       "      <td>...</td>\n",
       "      <td>...</td>\n",
       "      <td>...</td>\n",
       "      <td>...</td>\n",
       "      <td>...</td>\n",
       "      <td>...</td>\n",
       "      <td>...</td>\n",
       "      <td>...</td>\n",
       "    </tr>\n",
       "    <tr>\n",
       "      <th>149</th>\n",
       "      <td>0.117647</td>\n",
       "      <td>0.396104</td>\n",
       "      <td>0.571429</td>\n",
       "      <td>0.413043</td>\n",
       "      <td>0.212740</td>\n",
       "      <td>0.316973</td>\n",
       "      <td>0.270282</td>\n",
       "      <td>0.133333</td>\n",
       "    </tr>\n",
       "    <tr>\n",
       "      <th>150</th>\n",
       "      <td>0.235294</td>\n",
       "      <td>0.266234</td>\n",
       "      <td>0.346939</td>\n",
       "      <td>0.163043</td>\n",
       "      <td>0.042067</td>\n",
       "      <td>0.196319</td>\n",
       "      <td>0.097353</td>\n",
       "      <td>0.116667</td>\n",
       "    </tr>\n",
       "    <tr>\n",
       "      <th>151</th>\n",
       "      <td>0.235294</td>\n",
       "      <td>0.636364</td>\n",
       "      <td>0.632653</td>\n",
       "      <td>0.240798</td>\n",
       "      <td>0.170130</td>\n",
       "      <td>0.527607</td>\n",
       "      <td>0.242101</td>\n",
       "      <td>0.016667</td>\n",
       "    </tr>\n",
       "    <tr>\n",
       "      <th>152</th>\n",
       "      <td>0.176471</td>\n",
       "      <td>0.467532</td>\n",
       "      <td>0.510204</td>\n",
       "      <td>0.086957</td>\n",
       "      <td>0.109375</td>\n",
       "      <td>0.165644</td>\n",
       "      <td>0.012383</td>\n",
       "      <td>0.050000</td>\n",
       "    </tr>\n",
       "    <tr>\n",
       "      <th>153</th>\n",
       "      <td>0.058824</td>\n",
       "      <td>0.409091</td>\n",
       "      <td>0.489796</td>\n",
       "      <td>0.250000</td>\n",
       "      <td>0.081731</td>\n",
       "      <td>0.257669</td>\n",
       "      <td>0.317250</td>\n",
       "      <td>0.050000</td>\n",
       "    </tr>\n",
       "  </tbody>\n",
       "</table>\n",
       "<p>154 rows × 8 columns</p>\n",
       "</div>"
      ],
      "text/plain": [
       "     Pregnancies   Glucose  BloodPressure  SkinThickness   Insulin       BMI  \\\n",
       "0       0.058824  1.006494       0.530612       0.391304  0.170130  0.505112   \n",
       "1       0.117647  0.409091       0.510204       0.250000  0.103365  0.314928   \n",
       "2       0.235294  0.207792       0.387755       0.240798  0.170130  0.323108   \n",
       "3       0.294118  0.792208       0.489796       0.130435  0.193510  0.155419   \n",
       "4       0.000000  0.435065       0.418367       0.240798  0.170130  0.130879   \n",
       "..           ...       ...            ...            ...       ...       ...   \n",
       "149     0.117647  0.396104       0.571429       0.413043  0.212740  0.316973   \n",
       "150     0.235294  0.266234       0.346939       0.163043  0.042067  0.196319   \n",
       "151     0.235294  0.636364       0.632653       0.240798  0.170130  0.527607   \n",
       "152     0.176471  0.467532       0.510204       0.086957  0.109375  0.165644   \n",
       "153     0.058824  0.409091       0.489796       0.250000  0.081731  0.257669   \n",
       "\n",
       "     DiabetesPedigreeFunction       Age  \n",
       "0                    0.561913  0.016667  \n",
       "1                    0.139197  0.033333  \n",
       "2                    0.133646  0.066667  \n",
       "3                    0.217336  0.500000  \n",
       "4                    0.248506  0.166667  \n",
       "..                        ...       ...  \n",
       "149                  0.270282  0.133333  \n",
       "150                  0.097353  0.116667  \n",
       "151                  0.242101  0.016667  \n",
       "152                  0.012383  0.050000  \n",
       "153                  0.317250  0.050000  \n",
       "\n",
       "[154 rows x 8 columns]"
      ]
     },
     "execution_count": 53,
     "metadata": {},
     "output_type": "execute_result"
    }
   ],
   "source": [
    "scaled_test=pd.DataFrame(scaled_test, columns=X_test.columns)\n",
    "scaled_test"
   ]
  },
  {
   "cell_type": "markdown",
   "metadata": {},
   "source": [
    "Fitting the Model\n",
    "\n",
    "KNN is unique compared to other classifiers in that it does almost nothing during the \"fit\" step, and all the work during the \"predict\" step. During the \"fit\" step, KNN just stores all the training data and corresponding labels. No distances are calculated at this point.\n"
   ]
  },
  {
   "cell_type": "code",
   "execution_count": 54,
   "metadata": {},
   "outputs": [
    {
     "data": {
      "text/html": [
       "<style>#sk-container-id-4 {color: black;}#sk-container-id-4 pre{padding: 0;}#sk-container-id-4 div.sk-toggleable {background-color: white;}#sk-container-id-4 label.sk-toggleable__label {cursor: pointer;display: block;width: 100%;margin-bottom: 0;padding: 0.3em;box-sizing: border-box;text-align: center;}#sk-container-id-4 label.sk-toggleable__label-arrow:before {content: \"▸\";float: left;margin-right: 0.25em;color: #696969;}#sk-container-id-4 label.sk-toggleable__label-arrow:hover:before {color: black;}#sk-container-id-4 div.sk-estimator:hover label.sk-toggleable__label-arrow:before {color: black;}#sk-container-id-4 div.sk-toggleable__content {max-height: 0;max-width: 0;overflow: hidden;text-align: left;background-color: #f0f8ff;}#sk-container-id-4 div.sk-toggleable__content pre {margin: 0.2em;color: black;border-radius: 0.25em;background-color: #f0f8ff;}#sk-container-id-4 input.sk-toggleable__control:checked~div.sk-toggleable__content {max-height: 200px;max-width: 100%;overflow: auto;}#sk-container-id-4 input.sk-toggleable__control:checked~label.sk-toggleable__label-arrow:before {content: \"▾\";}#sk-container-id-4 div.sk-estimator input.sk-toggleable__control:checked~label.sk-toggleable__label {background-color: #d4ebff;}#sk-container-id-4 div.sk-label input.sk-toggleable__control:checked~label.sk-toggleable__label {background-color: #d4ebff;}#sk-container-id-4 input.sk-hidden--visually {border: 0;clip: rect(1px 1px 1px 1px);clip: rect(1px, 1px, 1px, 1px);height: 1px;margin: -1px;overflow: hidden;padding: 0;position: absolute;width: 1px;}#sk-container-id-4 div.sk-estimator {font-family: monospace;background-color: #f0f8ff;border: 1px dotted black;border-radius: 0.25em;box-sizing: border-box;margin-bottom: 0.5em;}#sk-container-id-4 div.sk-estimator:hover {background-color: #d4ebff;}#sk-container-id-4 div.sk-parallel-item::after {content: \"\";width: 100%;border-bottom: 1px solid gray;flex-grow: 1;}#sk-container-id-4 div.sk-label:hover label.sk-toggleable__label {background-color: #d4ebff;}#sk-container-id-4 div.sk-serial::before {content: \"\";position: absolute;border-left: 1px solid gray;box-sizing: border-box;top: 0;bottom: 0;left: 50%;z-index: 0;}#sk-container-id-4 div.sk-serial {display: flex;flex-direction: column;align-items: center;background-color: white;padding-right: 0.2em;padding-left: 0.2em;position: relative;}#sk-container-id-4 div.sk-item {position: relative;z-index: 1;}#sk-container-id-4 div.sk-parallel {display: flex;align-items: stretch;justify-content: center;background-color: white;position: relative;}#sk-container-id-4 div.sk-item::before, #sk-container-id-4 div.sk-parallel-item::before {content: \"\";position: absolute;border-left: 1px solid gray;box-sizing: border-box;top: 0;bottom: 0;left: 50%;z-index: -1;}#sk-container-id-4 div.sk-parallel-item {display: flex;flex-direction: column;z-index: 1;position: relative;background-color: white;}#sk-container-id-4 div.sk-parallel-item:first-child::after {align-self: flex-end;width: 50%;}#sk-container-id-4 div.sk-parallel-item:last-child::after {align-self: flex-start;width: 50%;}#sk-container-id-4 div.sk-parallel-item:only-child::after {width: 0;}#sk-container-id-4 div.sk-dashed-wrapped {border: 1px dashed gray;margin: 0 0.4em 0.5em 0.4em;box-sizing: border-box;padding-bottom: 0.4em;background-color: white;}#sk-container-id-4 div.sk-label label {font-family: monospace;font-weight: bold;display: inline-block;line-height: 1.2em;}#sk-container-id-4 div.sk-label-container {text-align: center;}#sk-container-id-4 div.sk-container {/* jupyter's `normalize.less` sets `[hidden] { display: none; }` but bootstrap.min.css set `[hidden] { display: none !important; }` so we also need the `!important` here to be able to override the default hidden behavior on the sphinx rendered scikit-learn.org. See: https://github.com/scikit-learn/scikit-learn/issues/21755 */display: inline-block !important;position: relative;}#sk-container-id-4 div.sk-text-repr-fallback {display: none;}</style><div id=\"sk-container-id-4\" class=\"sk-top-container\"><div class=\"sk-text-repr-fallback\"><pre>KNeighborsClassifier(metric=&#x27;euclidean&#x27;)</pre><b>In a Jupyter environment, please rerun this cell to show the HTML representation or trust the notebook. <br />On GitHub, the HTML representation is unable to render, please try loading this page with nbviewer.org.</b></div><div class=\"sk-container\" hidden><div class=\"sk-item\"><div class=\"sk-estimator sk-toggleable\"><input class=\"sk-toggleable__control sk-hidden--visually\" id=\"sk-estimator-id-4\" type=\"checkbox\" checked><label for=\"sk-estimator-id-4\" class=\"sk-toggleable__label sk-toggleable__label-arrow\">KNeighborsClassifier</label><div class=\"sk-toggleable__content\"><pre>KNeighborsClassifier(metric=&#x27;euclidean&#x27;)</pre></div></div></div></div></div>"
      ],
      "text/plain": [
       "KNeighborsClassifier(metric='euclidean')"
      ]
     },
     "execution_count": 54,
     "metadata": {},
     "output_type": "execute_result"
    }
   ],
   "source": [
    "clf=KNeighborsClassifier(p=2, metric=\"euclidean\")\n",
    "clf.fit(scaled_train, y_train)\n"
   ]
  },
  {
   "cell_type": "markdown",
   "metadata": {},
   "source": [
    "Predicting the Model using the test set"
   ]
  },
  {
   "cell_type": "code",
   "execution_count": 55,
   "metadata": {},
   "outputs": [],
   "source": [
    "y_pred= clf.predict(scaled_test)"
   ]
  },
  {
   "cell_type": "markdown",
   "metadata": {},
   "source": [
    "Evaluating the Model\n",
    "Evaluating classification performance for KNN works the same as evaluating performance for any other classification algorithm -- you need a set of predictions, and the corresponding ground-truth labels for each of the points you made a prediction on. You can then compute evaluation metrics such as Precision, Recall, Accuracy, F1-Score etc.\n"
   ]
  },
  {
   "cell_type": "code",
   "execution_count": 56,
   "metadata": {},
   "outputs": [
    {
     "data": {
      "text/plain": [
       "array([[90, 17],\n",
       "       [16, 31]], dtype=int64)"
      ]
     },
     "execution_count": 56,
     "metadata": {},
     "output_type": "execute_result"
    }
   ],
   "source": [
    "cm=confusion_matrix(y_test, y_pred)\n",
    "cm"
   ]
  },
  {
   "cell_type": "code",
   "execution_count": 57,
   "metadata": {},
   "outputs": [
    {
     "name": "stdout",
     "output_type": "stream",
     "text": [
      "F1_score 0.6526315789473683\n",
      "Accuracy 0.7857142857142857\n",
      "Recall 0.6595744680851063\n",
      "Precision 0.6458333333333334\n"
     ]
    }
   ],
   "source": [
    "print(f\"F1_score\",f1_score(y_test, y_pred))\n",
    "print(f\"Accuracy\",accuracy_score(y_test, y_pred))\n",
    "print(f\"Recall\", recall_score(y_test,y_pred))\n",
    "print(f\"Precision\", precision_score(y_test,y_pred))\n",
    "\n"
   ]
  },
  {
   "cell_type": "code",
   "execution_count": 58,
   "metadata": {},
   "outputs": [
    {
     "data": {
      "text/plain": [
       "12.409673645990857"
      ]
     },
     "execution_count": 58,
     "metadata": {},
     "output_type": "execute_result"
    }
   ],
   "source": [
    "np.sqrt(len(y_test))"
   ]
  },
  {
   "cell_type": "markdown",
   "metadata": {},
   "source": [
    "Selecting the values of K"
   ]
  },
  {
   "cell_type": "code",
   "execution_count": 59,
   "metadata": {},
   "outputs": [],
   "source": [
    "def find_best_k(X_train, y_train, X_test, y_test, min_k=1, max_k=25):\n",
    "    best_k = 0\n",
    "    best_score = 0.0\n",
    "  \n",
    "    for k in range(min_k, max_k+1, 2):\n",
    "        knn = KNeighborsClassifier(n_neighbors=k)\n",
    "        knn.fit(X_train, y_train)\n",
    "        preds = knn.predict(X_test)\n",
    "        acc=accuracy_score(y_test, preds)\n",
    "        precs=precision_score(y_test,y_pred)\n",
    "        rec=recall_score(y_test, y_pred)\n",
    "        f1 = f1_score(y_test, preds)\n",
    "        if f1 > best_score:\n",
    "            best_k = k\n",
    "            best_score = f1\n",
    "            precision=precs\n",
    "            recall=rec\n",
    "            accuracy=acc\n",
    "    \n",
    "    print(\"Best Value for k: {}\".format(best_k))\n",
    "    print(\"F1-Score: {}\".format(best_score))\n",
    "    print(\"Accuracy: {}\".format(accuracy))\n",
    "    print(\"Precision: {}\".format(precision))\n",
    "    print(\"Recall: {}\".format(recall))\n"
   ]
  },
  {
   "cell_type": "code",
   "execution_count": 60,
   "metadata": {},
   "outputs": [
    {
     "name": "stdout",
     "output_type": "stream",
     "text": [
      "Best Value for k: 11\n",
      "F1-Score: 0.723404255319149\n",
      "Accuracy: 0.8311688311688312\n",
      "Precision: 0.6458333333333334\n",
      "Recall: 0.6595744680851063\n"
     ]
    }
   ],
   "source": [
    "find_best_k(scaled_train, y_train, scaled_test, y_test)"
   ]
  },
  {
   "cell_type": "markdown",
   "metadata": {},
   "source": [
    "appendix\n",
    "\n",
    "Strengths\n",
    "\n",
    "Simplicity: KNN is easy to understand and implement. Its intuitive nature makes it an excellent starting point for beginners in machine learning.\n",
    "\n",
    "No Training Phase: KNN is a lazy learner, meaning it does not require an explicit training phase. It simply stores the training data and makes predictions during runtime.\n",
    "\n",
    "Versatility: KNN can be used for both classification and regression tasks. It can also handle multi-class classification problems.\n",
    "\n",
    "Adaptability: The algorithm can adapt to various types of distance metrics (e.g., Euclidean, Manhattan, Minkowski), making it flexible for different types of data and problem domains.\n",
    "\n",
    "Non-Parametric: KNN does not assume a specific distribution of the data, making it suitable for problems where the data distribution is unknown or complex.\n",
    "\n",
    "Weaknesses\n",
    "\n",
    "Computationally Intensive: KNN can be slow for large datasets because it needs to compute the distance between the test instance and all training instances. This can make real-time predictions impractical.\n",
    "\n",
    "Memory Intensive: KNN stores all the training data, which can require significant memory, especially for large datasets.\n",
    "\n",
    "Sensitivity to Irrelevant Features: KNN's performance can degrade if the data contains many irrelevant features, as all features contribute equally to the distance calculation.\n",
    "\n",
    "Curse of Dimensionality: As the number of dimensions increases, the distance metrics used by KNN become less effective. This can lead to poor performance and the need for dimensionality reduction techniques.\n",
    "\n",
    "Choice of 𝐾 and Distance Metric: The performance of KNN heavily depends on the choice of 𝐾 and the distance metric. Selecting inappropriate values can lead to poor model performance.\n",
    "\n",
    "Opportunities\n",
    "\n",
    "Hybrid Models: Combining KNN with other machine learning algorithms (e.g., using KNN for initial screening and another algorithm for final decision-making) can enhance performance.\n",
    "\n",
    "Improved Distance Metrics: Developing or adopting advanced distance metrics that are more robust to the curse of dimensionality or tailored to specific applications can improve KNN's effectiveness.\n",
    "\n",
    "Feature Selection and Engineering: Techniques that improve feature selection and engineering can mitigate some of KNN's weaknesses, particularly its sensitivity to irrelevant features.\n",
    "\n",
    "Parallel and Distributed Computing: Implementing KNN in a parallel or distributed computing environment can address its computational and memory intensity, making it more scalable.\n",
    "\n",
    "Integration with Big Data Technologies: Leveraging big data frameworks (e.g., Apache Hadoop, Spark) can help in managing and processing large datasets efficiently, enabling the use of KNN on bigger datasets.\n",
    "\n",
    "Threats\n",
    "\n",
    "Competition from Advanced Algorithms: More advanced algorithms (e.g., random forests, gradient boosting machines, deep learning) often outperform KNN in terms of accuracy and efficiency, particularly on complex tasks.\n",
    "\n",
    "Scalability Issues: As datasets grow larger and more complex, KNN's scalability limitations become more pronounced, making it less competitive compared to other scalable algorithms.\n",
    "\n",
    "High Dimensional Data: The increasing prevalence of high-dimensional data in fields like genomics and text mining poses challenges for KNN, which struggles with the curse of dimensionality.\n",
    "\n",
    "Dependence on Distance Metrics: KNN's performance is highly dependent on the choice of distance metric, which might not always be straightforward to determine and may require extensive domain knowledge.\n",
    "\n",
    "Data Quality: KNN is highly sensitive to noisy data and outliers. Poor data quality can significantly impact its performance, requiring robust data preprocessing techniques."
   ]
  },
  {
   "cell_type": "markdown",
   "metadata": {},
   "source": []
  }
 ],
 "metadata": {
  "kernelspec": {
   "display_name": "Python (learn-env)",
   "language": "python",
   "name": "learn-env"
  },
  "language_info": {
   "codemirror_mode": {
    "name": "ipython",
    "version": 3
   },
   "file_extension": ".py",
   "mimetype": "text/x-python",
   "name": "python",
   "nbconvert_exporter": "python",
   "pygments_lexer": "ipython3",
   "version": "3.8.5"
  }
 },
 "nbformat": 4,
 "nbformat_minor": 2
}
